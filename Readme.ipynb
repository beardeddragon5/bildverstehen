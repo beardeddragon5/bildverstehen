{
 "cells": [
  {
   "cell_type": "markdown",
   "metadata": {},
   "source": [
    "Bildverstehen Praktikum und Projekt\n",
    "---\n",
    "\n",
    "Repository mit Teilen des Praktkums und der Studienarbeit\n",
    "die während des Bildverstehen Kurses WS19/20 entstanden\n",
    "ist.\n",
    "\n",
    "Erstellen der Entwicklungsumgebung wurde mit `conda`\n",
    "realisiert dafür wurde ein Enviroment mit den notwendigen\n",
    "Dependencies erstellt und als conda env file abgelegt.\n",
    "\n",
    "```\n",
    "conda env create -f env.yml\n",
    "```\n",
    "\n",
    "Als Editor wurde jupyter notebook benutzt dieser lässt sich\n",
    "nach Erstellung des Enviroments folgendermaßen starten.\n",
    "\n",
    "```\n",
    "conda env activate opencv\n",
    "jupyter notebook\n",
    "```"
   ]
  }
 ],
 "metadata": {
  "jupytext": {
   "cell_metadata_filter": "-all",
   "notebook_metadata_filter": "-all",
   "text_representation": {
    "extension": ".md",
    "format_name": "markdown"
   }
  },
  "kernelspec": {
   "display_name": "Python 3",
   "language": "python",
   "name": "python3"
  },
  "language_info": {
   "codemirror_mode": {
    "name": "ipython",
    "version": 3
   },
   "file_extension": ".py",
   "mimetype": "text/x-python",
   "name": "python",
   "nbconvert_exporter": "python",
   "pygments_lexer": "ipython3",
   "version": "3.8.0"
  }
 },
 "nbformat": 4,
 "nbformat_minor": 2
}
